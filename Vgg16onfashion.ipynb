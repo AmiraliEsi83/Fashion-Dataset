{
  "cells": [
    {
      "cell_type": "markdown",
      "metadata": {
        "id": "view-in-github",
        "colab_type": "text"
      },
      "source": [
        "<a href=\"https://colab.research.google.com/github/AmiraliEsi83/Fashion-Dataset/blob/main/Vgg16onfashion.ipynb\" target=\"_parent\"><img src=\"https://colab.research.google.com/assets/colab-badge.svg\" alt=\"Open In Colab\"/></a>"
      ]
    },
    {
      "cell_type": "code",
      "execution_count": 39,
      "metadata": {
        "id": "4jl3ZpPVF41f"
      },
      "outputs": [],
      "source": [
        "import numpy as np # linear algebra\n",
        "import pandas as pd # data processing, CSV file I/O (e.g. pd.read_csv)\n",
        "import os, time\n",
        "import matplotlib.pyplot as plt\n",
        "#from keras.datasets import fashion_mnist\n",
        "from sklearn.model_selection import train_test_split\n",
        "import keras\n",
        "from keras.utils import to_categorical\n",
        "from keras.models import Sequential\n",
        "from keras.layers import Conv2D, MaxPooling2D\n",
        "from keras.layers import Dense, Dropout, Flatten\n",
        "#from keras.layers.advanced_activations import LeakyReLU\n",
        "from keras.preprocessing.image import ImageDataGenerator\n",
        "from keras.applications import VGG16;\n",
        "from keras.applications.vgg16 import preprocess_input\n",
        "import os"
      ]
    },
    {
      "cell_type": "code",
      "execution_count": 40,
      "metadata": {
        "id": "5uAHTgG0GAOe"
      },
      "outputs": [],
      "source": [
        "# Read csv data files\n",
        "train_data = pd.read_csv('/content/drive/MyDrive/Fashion/fashion-mnist_train.csv')\n",
        "test_data = pd.read_csv('/content/drive/MyDrive/Fashion/fashion-mnist_test.csv')"
      ]
    },
    {
      "cell_type": "code",
      "execution_count": 41,
      "metadata": {
        "id": "V_8zXLugGCZn"
      },
      "outputs": [],
      "source": [
        "train_data.shape #(60,000*785)\n",
        "test_data.shape #(10000,785)\n",
        "train_X= np.array(train_data.iloc[:,1:])\n",
        "test_X= np.array(test_data.iloc[:,1:])\n",
        "train_Y= np.array (train_data.iloc[:,0]) # (60000,)\n",
        "test_Y = np.array(test_data.iloc[:,0]) #(10000,)"
      ]
    },
    {
      "cell_type": "code",
      "execution_count": 42,
      "metadata": {
        "colab": {
          "base_uri": "https://localhost:8080/",
          "height": 300
        },
        "id": "SKi4ccL7GCXd",
        "outputId": "24ca7797-aadf-44c1-8858-2cfaeedff44b"
      },
      "outputs": [
        {
          "output_type": "execute_result",
          "data": {
            "text/plain": [
              "   label  pixel1  pixel2  pixel3  pixel4  pixel5  pixel6  pixel7  pixel8  \\\n",
              "0      2       0       0       0       0       0       0       0       0   \n",
              "1      9       0       0       0       0       0       0       0       0   \n",
              "2      6       0       0       0       0       0       0       0       5   \n",
              "3      0       0       0       0       1       2       0       0       0   \n",
              "4      3       0       0       0       0       0       0       0       0   \n",
              "\n",
              "   pixel9  ...  pixel775  pixel776  pixel777  pixel778  pixel779  pixel780  \\\n",
              "0       0  ...         0         0         0         0         0         0   \n",
              "1       0  ...         0         0         0         0         0         0   \n",
              "2       0  ...         0         0         0        30        43         0   \n",
              "3       0  ...         3         0         0         0         0         1   \n",
              "4       0  ...         0         0         0         0         0         0   \n",
              "\n",
              "   pixel781  pixel782  pixel783  pixel784  \n",
              "0         0         0         0         0  \n",
              "1         0         0         0         0  \n",
              "2         0         0         0         0  \n",
              "3         0         0         0         0  \n",
              "4         0         0         0         0  \n",
              "\n",
              "[5 rows x 785 columns]"
            ],
            "text/html": [
              "\n",
              "  <div id=\"df-f6b1bd43-5fd8-4eda-be5a-ea760481f99e\">\n",
              "    <div class=\"colab-df-container\">\n",
              "      <div>\n",
              "<style scoped>\n",
              "    .dataframe tbody tr th:only-of-type {\n",
              "        vertical-align: middle;\n",
              "    }\n",
              "\n",
              "    .dataframe tbody tr th {\n",
              "        vertical-align: top;\n",
              "    }\n",
              "\n",
              "    .dataframe thead th {\n",
              "        text-align: right;\n",
              "    }\n",
              "</style>\n",
              "<table border=\"1\" class=\"dataframe\">\n",
              "  <thead>\n",
              "    <tr style=\"text-align: right;\">\n",
              "      <th></th>\n",
              "      <th>label</th>\n",
              "      <th>pixel1</th>\n",
              "      <th>pixel2</th>\n",
              "      <th>pixel3</th>\n",
              "      <th>pixel4</th>\n",
              "      <th>pixel5</th>\n",
              "      <th>pixel6</th>\n",
              "      <th>pixel7</th>\n",
              "      <th>pixel8</th>\n",
              "      <th>pixel9</th>\n",
              "      <th>...</th>\n",
              "      <th>pixel775</th>\n",
              "      <th>pixel776</th>\n",
              "      <th>pixel777</th>\n",
              "      <th>pixel778</th>\n",
              "      <th>pixel779</th>\n",
              "      <th>pixel780</th>\n",
              "      <th>pixel781</th>\n",
              "      <th>pixel782</th>\n",
              "      <th>pixel783</th>\n",
              "      <th>pixel784</th>\n",
              "    </tr>\n",
              "  </thead>\n",
              "  <tbody>\n",
              "    <tr>\n",
              "      <th>0</th>\n",
              "      <td>2</td>\n",
              "      <td>0</td>\n",
              "      <td>0</td>\n",
              "      <td>0</td>\n",
              "      <td>0</td>\n",
              "      <td>0</td>\n",
              "      <td>0</td>\n",
              "      <td>0</td>\n",
              "      <td>0</td>\n",
              "      <td>0</td>\n",
              "      <td>...</td>\n",
              "      <td>0</td>\n",
              "      <td>0</td>\n",
              "      <td>0</td>\n",
              "      <td>0</td>\n",
              "      <td>0</td>\n",
              "      <td>0</td>\n",
              "      <td>0</td>\n",
              "      <td>0</td>\n",
              "      <td>0</td>\n",
              "      <td>0</td>\n",
              "    </tr>\n",
              "    <tr>\n",
              "      <th>1</th>\n",
              "      <td>9</td>\n",
              "      <td>0</td>\n",
              "      <td>0</td>\n",
              "      <td>0</td>\n",
              "      <td>0</td>\n",
              "      <td>0</td>\n",
              "      <td>0</td>\n",
              "      <td>0</td>\n",
              "      <td>0</td>\n",
              "      <td>0</td>\n",
              "      <td>...</td>\n",
              "      <td>0</td>\n",
              "      <td>0</td>\n",
              "      <td>0</td>\n",
              "      <td>0</td>\n",
              "      <td>0</td>\n",
              "      <td>0</td>\n",
              "      <td>0</td>\n",
              "      <td>0</td>\n",
              "      <td>0</td>\n",
              "      <td>0</td>\n",
              "    </tr>\n",
              "    <tr>\n",
              "      <th>2</th>\n",
              "      <td>6</td>\n",
              "      <td>0</td>\n",
              "      <td>0</td>\n",
              "      <td>0</td>\n",
              "      <td>0</td>\n",
              "      <td>0</td>\n",
              "      <td>0</td>\n",
              "      <td>0</td>\n",
              "      <td>5</td>\n",
              "      <td>0</td>\n",
              "      <td>...</td>\n",
              "      <td>0</td>\n",
              "      <td>0</td>\n",
              "      <td>0</td>\n",
              "      <td>30</td>\n",
              "      <td>43</td>\n",
              "      <td>0</td>\n",
              "      <td>0</td>\n",
              "      <td>0</td>\n",
              "      <td>0</td>\n",
              "      <td>0</td>\n",
              "    </tr>\n",
              "    <tr>\n",
              "      <th>3</th>\n",
              "      <td>0</td>\n",
              "      <td>0</td>\n",
              "      <td>0</td>\n",
              "      <td>0</td>\n",
              "      <td>1</td>\n",
              "      <td>2</td>\n",
              "      <td>0</td>\n",
              "      <td>0</td>\n",
              "      <td>0</td>\n",
              "      <td>0</td>\n",
              "      <td>...</td>\n",
              "      <td>3</td>\n",
              "      <td>0</td>\n",
              "      <td>0</td>\n",
              "      <td>0</td>\n",
              "      <td>0</td>\n",
              "      <td>1</td>\n",
              "      <td>0</td>\n",
              "      <td>0</td>\n",
              "      <td>0</td>\n",
              "      <td>0</td>\n",
              "    </tr>\n",
              "    <tr>\n",
              "      <th>4</th>\n",
              "      <td>3</td>\n",
              "      <td>0</td>\n",
              "      <td>0</td>\n",
              "      <td>0</td>\n",
              "      <td>0</td>\n",
              "      <td>0</td>\n",
              "      <td>0</td>\n",
              "      <td>0</td>\n",
              "      <td>0</td>\n",
              "      <td>0</td>\n",
              "      <td>...</td>\n",
              "      <td>0</td>\n",
              "      <td>0</td>\n",
              "      <td>0</td>\n",
              "      <td>0</td>\n",
              "      <td>0</td>\n",
              "      <td>0</td>\n",
              "      <td>0</td>\n",
              "      <td>0</td>\n",
              "      <td>0</td>\n",
              "      <td>0</td>\n",
              "    </tr>\n",
              "  </tbody>\n",
              "</table>\n",
              "<p>5 rows × 785 columns</p>\n",
              "</div>\n",
              "      <button class=\"colab-df-convert\" onclick=\"convertToInteractive('df-f6b1bd43-5fd8-4eda-be5a-ea760481f99e')\"\n",
              "              title=\"Convert this dataframe to an interactive table.\"\n",
              "              style=\"display:none;\">\n",
              "        \n",
              "  <svg xmlns=\"http://www.w3.org/2000/svg\" height=\"24px\"viewBox=\"0 0 24 24\"\n",
              "       width=\"24px\">\n",
              "    <path d=\"M0 0h24v24H0V0z\" fill=\"none\"/>\n",
              "    <path d=\"M18.56 5.44l.94 2.06.94-2.06 2.06-.94-2.06-.94-.94-2.06-.94 2.06-2.06.94zm-11 1L8.5 8.5l.94-2.06 2.06-.94-2.06-.94L8.5 2.5l-.94 2.06-2.06.94zm10 10l.94 2.06.94-2.06 2.06-.94-2.06-.94-.94-2.06-.94 2.06-2.06.94z\"/><path d=\"M17.41 7.96l-1.37-1.37c-.4-.4-.92-.59-1.43-.59-.52 0-1.04.2-1.43.59L10.3 9.45l-7.72 7.72c-.78.78-.78 2.05 0 2.83L4 21.41c.39.39.9.59 1.41.59.51 0 1.02-.2 1.41-.59l7.78-7.78 2.81-2.81c.8-.78.8-2.07 0-2.86zM5.41 20L4 18.59l7.72-7.72 1.47 1.35L5.41 20z\"/>\n",
              "  </svg>\n",
              "      </button>\n",
              "      \n",
              "  <style>\n",
              "    .colab-df-container {\n",
              "      display:flex;\n",
              "      flex-wrap:wrap;\n",
              "      gap: 12px;\n",
              "    }\n",
              "\n",
              "    .colab-df-convert {\n",
              "      background-color: #E8F0FE;\n",
              "      border: none;\n",
              "      border-radius: 50%;\n",
              "      cursor: pointer;\n",
              "      display: none;\n",
              "      fill: #1967D2;\n",
              "      height: 32px;\n",
              "      padding: 0 0 0 0;\n",
              "      width: 32px;\n",
              "    }\n",
              "\n",
              "    .colab-df-convert:hover {\n",
              "      background-color: #E2EBFA;\n",
              "      box-shadow: 0px 1px 2px rgba(60, 64, 67, 0.3), 0px 1px 3px 1px rgba(60, 64, 67, 0.15);\n",
              "      fill: #174EA6;\n",
              "    }\n",
              "\n",
              "    [theme=dark] .colab-df-convert {\n",
              "      background-color: #3B4455;\n",
              "      fill: #D2E3FC;\n",
              "    }\n",
              "\n",
              "    [theme=dark] .colab-df-convert:hover {\n",
              "      background-color: #434B5C;\n",
              "      box-shadow: 0px 1px 3px 1px rgba(0, 0, 0, 0.15);\n",
              "      filter: drop-shadow(0px 1px 2px rgba(0, 0, 0, 0.3));\n",
              "      fill: #FFFFFF;\n",
              "    }\n",
              "  </style>\n",
              "\n",
              "      <script>\n",
              "        const buttonEl =\n",
              "          document.querySelector('#df-f6b1bd43-5fd8-4eda-be5a-ea760481f99e button.colab-df-convert');\n",
              "        buttonEl.style.display =\n",
              "          google.colab.kernel.accessAllowed ? 'block' : 'none';\n",
              "\n",
              "        async function convertToInteractive(key) {\n",
              "          const element = document.querySelector('#df-f6b1bd43-5fd8-4eda-be5a-ea760481f99e');\n",
              "          const dataTable =\n",
              "            await google.colab.kernel.invokeFunction('convertToInteractive',\n",
              "                                                     [key], {});\n",
              "          if (!dataTable) return;\n",
              "\n",
              "          const docLinkHtml = 'Like what you see? Visit the ' +\n",
              "            '<a target=\"_blank\" href=https://colab.research.google.com/notebooks/data_table.ipynb>data table notebook</a>'\n",
              "            + ' to learn more about interactive tables.';\n",
              "          element.innerHTML = '';\n",
              "          dataTable['output_type'] = 'display_data';\n",
              "          await google.colab.output.renderOutput(dataTable, element);\n",
              "          const docLink = document.createElement('div');\n",
              "          docLink.innerHTML = docLinkHtml;\n",
              "          element.appendChild(docLink);\n",
              "        }\n",
              "      </script>\n",
              "    </div>\n",
              "  </div>\n",
              "  "
            ]
          },
          "metadata": {},
          "execution_count": 42
        }
      ],
      "source": [
        "train_data.head()"
      ]
    },
    {
      "cell_type": "code",
      "execution_count": 43,
      "metadata": {
        "colab": {
          "base_uri": "https://localhost:8080/"
        },
        "id": "298cQYtyGCVl",
        "outputId": "d5309b7f-3af2-4793-82cd-b68f3aeb6619"
      },
      "outputs": [
        {
          "output_type": "execute_result",
          "data": {
            "text/plain": [
              "((60000, 784), (10000, 784))"
            ]
          },
          "metadata": {},
          "execution_count": 43
        }
      ],
      "source": [
        "train_X.shape, test_X.shape"
      ]
    },
    {
      "cell_type": "code",
      "execution_count": 44,
      "metadata": {
        "colab": {
          "base_uri": "https://localhost:8080/"
        },
        "id": "lAAGE6ZEGCTg",
        "outputId": "a91f1e11-09b3-4a17-f1f3-bce13b872831"
      },
      "outputs": [
        {
          "output_type": "execute_result",
          "data": {
            "text/plain": [
              "10"
            ]
          },
          "metadata": {},
          "execution_count": 44
        }
      ],
      "source": [
        "classes = np.unique(train_Y)\n",
        "num_classes = len(classes)\n",
        "num_classes"
      ]
    },
    {
      "cell_type": "code",
      "execution_count": 45,
      "metadata": {
        "colab": {
          "base_uri": "https://localhost:8080/"
        },
        "id": "6G2riBMGGCSM",
        "outputId": "e96b3f42-586f-49f2-f981-cb04dda74937"
      },
      "outputs": [
        {
          "output_type": "execute_result",
          "data": {
            "text/plain": [
              "((60000, 784, 3), (10000, 784, 3))"
            ]
          },
          "metadata": {},
          "execution_count": 45
        }
      ],
      "source": [
        "# Convert the images into 3 channels\n",
        "train_X=np.dstack([train_X] * 3)\n",
        "test_X=np.dstack([test_X]*3)\n",
        "train_X.shape,test_X.shape"
      ]
    },
    {
      "cell_type": "code",
      "execution_count": 46,
      "metadata": {
        "colab": {
          "base_uri": "https://localhost:8080/"
        },
        "id": "2niY-G49GCPt",
        "outputId": "2da87251-4bf9-4640-def7-d9eafe8c22e1"
      },
      "outputs": [
        {
          "output_type": "execute_result",
          "data": {
            "text/plain": [
              "((60000, 28, 28, 3), (10000, 28, 28, 3))"
            ]
          },
          "metadata": {},
          "execution_count": 46
        }
      ],
      "source": [
        "# Reshape images as per the tensor format required by tensorflow\n",
        "train_X = train_X.reshape(-1, 28,28,3)\n",
        "test_X= test_X.reshape (-1,28,28,3)\n",
        "train_X.shape,test_X.shape"
      ]
    },
    {
      "cell_type": "code",
      "execution_count": 47,
      "metadata": {
        "colab": {
          "base_uri": "https://localhost:8080/"
        },
        "id": "SpyNNg7WGCKb",
        "outputId": "a88d552e-9fed-4461-bf1c-441b84897344"
      },
      "outputs": [
        {
          "output_type": "execute_result",
          "data": {
            "text/plain": [
              "((60000, 48, 48, 3), (10000, 48, 48, 3))"
            ]
          },
          "metadata": {},
          "execution_count": 47
        }
      ],
      "source": [
        "# Resize the images 48*48 as required by VGG16\n",
        "from tensorflow.keras.utils import img_to_array, array_to_img\n",
        "train_X = np.asarray([img_to_array(array_to_img(im, scale=False).resize((48,48))) for im in train_X])\n",
        "test_X = np.asarray([img_to_array(array_to_img(im, scale=False).resize((48,48))) for im in test_X])\n",
        "#train_x = preprocess_input(x)\n",
        "train_X.shape, test_X.shape"
      ]
    },
    {
      "cell_type": "code",
      "execution_count": 48,
      "metadata": {
        "id": "RD_uAzjmGCHU"
      },
      "outputs": [],
      "source": [
        "# Normalise the data and change data type\n",
        "train_X = train_X / 255.\n",
        "test_X = test_X / 255.\n",
        "train_X = train_X.astype('float32')\n",
        "test_X = test_X.astype('float32')"
      ]
    },
    {
      "cell_type": "code",
      "execution_count": 49,
      "metadata": {
        "id": "QwlI9CKIGCE-"
      },
      "outputs": [],
      "source": [
        "# Converting Labels to one hot encoded format\n",
        "train_Y_one_hot = to_categorical(train_Y)\n",
        "test_Y_one_hot = to_categorical(test_Y)"
      ]
    },
    {
      "cell_type": "code",
      "execution_count": 50,
      "metadata": {
        "id": "0eej7DbwGCCW"
      },
      "outputs": [],
      "source": [
        "# Splitting train data as train and validation data\n",
        "train_X,valid_X,train_label,valid_label = train_test_split(train_X,\n",
        "                                                           train_Y_one_hot,\n",
        "                                                           test_size=0.2,\n",
        "                                                           random_state=13\n",
        "                                                           )"
      ]
    },
    {
      "cell_type": "code",
      "execution_count": 51,
      "metadata": {
        "id": "lrL9tpd5GB_w",
        "colab": {
          "base_uri": "https://localhost:8080/"
        },
        "outputId": "49730cc1-4990-4e31-de98-bc7d8d764786"
      },
      "outputs": [
        {
          "output_type": "execute_result",
          "data": {
            "text/plain": [
              "((48000, 48, 48, 3), (12000, 48, 48, 3), (48000, 10), (12000, 10))"
            ]
          },
          "metadata": {},
          "execution_count": 51
        }
      ],
      "source": [
        "# Finally check the data size whether it is as per tensorflow and VGG16 requirement\n",
        "train_X.shape,valid_X.shape,train_label.shape,valid_label.shape\n"
      ]
    },
    {
      "cell_type": "code",
      "execution_count": 52,
      "metadata": {
        "id": "OGZkWhN9GB9J"
      },
      "outputs": [],
      "source": [
        "# Define the parameters for instanitaing VGG16 model. \n",
        "IMG_WIDTH = 48\n",
        "IMG_HEIGHT = 48\n",
        "IMG_DEPTH = 3\n",
        "BATCH_SIZE = 16"
      ]
    },
    {
      "cell_type": "code",
      "execution_count": 53,
      "metadata": {
        "id": "dnLqRxTvGB6R"
      },
      "outputs": [],
      "source": [
        "# Preprocessing the input \n",
        "train_X = preprocess_input(train_X)\n",
        "valid_X = preprocess_input(valid_X)\n",
        "test_X  = preprocess_input (test_X)"
      ]
    },
    {
      "cell_type": "code",
      "execution_count": 54,
      "metadata": {
        "id": "GDw_DxxoGB3s",
        "colab": {
          "base_uri": "https://localhost:8080/"
        },
        "outputId": "6dee1088-b33e-4e0b-f17d-29bc7d535f17"
      },
      "outputs": [
        {
          "output_type": "stream",
          "name": "stdout",
          "text": [
            "Model: \"vgg16\"\n",
            "_________________________________________________________________\n",
            " Layer (type)                Output Shape              Param #   \n",
            "=================================================================\n",
            " input_2 (InputLayer)        [(None, 48, 48, 3)]       0         \n",
            "                                                                 \n",
            " block1_conv1 (Conv2D)       (None, 48, 48, 64)        1792      \n",
            "                                                                 \n",
            " block1_conv2 (Conv2D)       (None, 48, 48, 64)        36928     \n",
            "                                                                 \n",
            " block1_pool (MaxPooling2D)  (None, 24, 24, 64)        0         \n",
            "                                                                 \n",
            " block2_conv1 (Conv2D)       (None, 24, 24, 128)       73856     \n",
            "                                                                 \n",
            " block2_conv2 (Conv2D)       (None, 24, 24, 128)       147584    \n",
            "                                                                 \n",
            " block2_pool (MaxPooling2D)  (None, 12, 12, 128)       0         \n",
            "                                                                 \n",
            " block3_conv1 (Conv2D)       (None, 12, 12, 256)       295168    \n",
            "                                                                 \n",
            " block3_conv2 (Conv2D)       (None, 12, 12, 256)       590080    \n",
            "                                                                 \n",
            " block3_conv3 (Conv2D)       (None, 12, 12, 256)       590080    \n",
            "                                                                 \n",
            " block3_pool (MaxPooling2D)  (None, 6, 6, 256)         0         \n",
            "                                                                 \n",
            " block4_conv1 (Conv2D)       (None, 6, 6, 512)         1180160   \n",
            "                                                                 \n",
            " block4_conv2 (Conv2D)       (None, 6, 6, 512)         2359808   \n",
            "                                                                 \n",
            " block4_conv3 (Conv2D)       (None, 6, 6, 512)         2359808   \n",
            "                                                                 \n",
            " block4_pool (MaxPooling2D)  (None, 3, 3, 512)         0         \n",
            "                                                                 \n",
            " block5_conv1 (Conv2D)       (None, 3, 3, 512)         2359808   \n",
            "                                                                 \n",
            " block5_conv2 (Conv2D)       (None, 3, 3, 512)         2359808   \n",
            "                                                                 \n",
            " block5_conv3 (Conv2D)       (None, 3, 3, 512)         2359808   \n",
            "                                                                 \n",
            " block5_pool (MaxPooling2D)  (None, 1, 1, 512)         0         \n",
            "                                                                 \n",
            "=================================================================\n",
            "Total params: 14,714,688\n",
            "Trainable params: 14,714,688\n",
            "Non-trainable params: 0\n",
            "_________________________________________________________________\n"
          ]
        }
      ],
      "source": [
        "#  Create base model of VGG16\n",
        "conv_base = VGG16(weights='imagenet',\n",
        "                  include_top=False, \n",
        "                  input_shape=(IMG_HEIGHT, IMG_WIDTH, IMG_DEPTH)\n",
        "                 )\n",
        "conv_base.summary()"
      ]
    },
    {
      "cell_type": "code",
      "execution_count": 35,
      "metadata": {
        "id": "OEeelb_qGByw",
        "colab": {
          "base_uri": "https://localhost:8080/"
        },
        "outputId": "5626cc25-88d7-49af-fc4d-a51a6ec7d0fa"
      },
      "outputs": [
        {
          "output_type": "stream",
          "name": "stdout",
          "text": [
            "3000/3000 [==============================] - 29s 7ms/step\n",
            "625/625 [==============================] - 4s 7ms/step\n",
            "750/750 [==============================] - 5s 7ms/step\n"
          ]
        }
      ],
      "source": [
        "# Extracting features\n",
        "train_features = conv_base.predict(np.array(train_X), batch_size=BATCH_SIZE, verbose=1)\n",
        "test_features = conv_base.predict(np.array(test_X), batch_size=BATCH_SIZE, verbose=1)\n",
        "val_features = conv_base.predict(np.array(valid_X), batch_size=BATCH_SIZE, verbose=1)\n",
        "#for layer in conv_base.layers:\n",
        "#    layer.trainable = False"
      ]
    },
    {
      "cell_type": "code",
      "execution_count": 36,
      "metadata": {
        "id": "xYNys6sVGBv5"
      },
      "outputs": [],
      "source": [
        "# 6.1 Saving the features so that they can be used for future\n",
        "np.savez(\"train_features\", train_features, train_label)\n",
        "np.savez(\"test_features\", test_features, test_Y)\n",
        "np.savez(\"val_features\", val_features, valid_label)"
      ]
    },
    {
      "cell_type": "code",
      "execution_count": 37,
      "metadata": {
        "id": "Xm6MpNL-GuEK",
        "colab": {
          "base_uri": "https://localhost:8080/"
        },
        "outputId": "6aefd859-ee64-4500-c8d7-3e7bb6256b96"
      },
      "outputs": [
        {
          "output_type": "stream",
          "name": "stdout",
          "text": [
            "(48000, 1, 1, 512) \n",
            " (10000, 1, 1, 512) \n",
            " (12000, 1, 1, 512)\n"
          ]
        }
      ],
      "source": [
        "# Current shape of features\n",
        "print(train_features.shape, \"\\n\",  test_features.shape, \"\\n\", val_features.shape)"
      ]
    },
    {
      "cell_type": "code",
      "execution_count": 38,
      "metadata": {
        "id": "ZF9mfv9LGuBk"
      },
      "outputs": [],
      "source": [
        "# Flatten extracted features\n",
        "train_features_flat = np.reshape(train_features, (48000, 1*1*512))\n",
        "test_features_flat = np.reshape(test_features, (10000, 1*1*512))\n",
        "val_features_flat = np.reshape(val_features, (12000, 1*1*512))"
      ]
    },
    {
      "cell_type": "code",
      "execution_count": 56,
      "metadata": {
        "id": "sgzjVO-qGt87"
      },
      "outputs": [],
      "source": [
        "from keras import models\n",
        "from keras.models import Model\n",
        "from keras import layers\n",
        "from keras import optimizers\n",
        "from keras import callbacks\n"
      ]
    },
    {
      "cell_type": "code",
      "execution_count": 57,
      "metadata": {
        "id": "ZrZnRJbIGt6p"
      },
      "outputs": [],
      "source": [
        "# 7.0 Define the densely connected classifier followed by leakyrelu layer and finally dense layer for the number of classes\n",
        "NB_TRAIN_SAMPLES = train_features_flat.shape[0]\n",
        "NB_VALIDATION_SAMPLES = val_features_flat.shape[0]\n",
        "NB_EPOCHS = 100\n",
        "\n",
        "model = models.Sequential()\n",
        "model.add(layers.Dense(512, activation='relu', input_dim=(1*1*512)))\n",
        "model.add(layers.LeakyReLU(alpha=0.1))\n",
        "model.add(layers.Dense(num_classes, activation='softmax'))"
      ]
    },
    {
      "cell_type": "code",
      "execution_count": 58,
      "metadata": {
        "id": "bFKWnQTUGt4N"
      },
      "outputs": [],
      "source": [
        "# Compile the model.\n",
        "model.compile(\n",
        "    loss='categorical_crossentropy',\n",
        "    optimizer=optimizers.Adam(),\n",
        "  # optimizer=optimizers.RMSprop(lr=2e-5),\n",
        "    metrics=['acc'])\n"
      ]
    },
    {
      "cell_type": "code",
      "execution_count": 59,
      "metadata": {
        "id": "_WWKLZDoGt1T",
        "colab": {
          "base_uri": "https://localhost:8080/"
        },
        "outputId": "2786291c-5452-4ada-80ca-905e307b0529"
      },
      "outputs": [
        {
          "output_type": "stream",
          "name": "stderr",
          "text": [
            "WARNING:tensorflow:`epsilon` argument is deprecated and will be removed, use `min_delta` instead.\n"
          ]
        }
      ],
      "source": [
        "# Incorporating reduced learning and early stopping for callback\n",
        "reduce_learning = callbacks.ReduceLROnPlateau(\n",
        "    monitor='val_loss',\n",
        "    factor=0.2,\n",
        "    patience=2,\n",
        "    verbose=1,\n",
        "    mode='auto',\n",
        "    epsilon=0.0001,\n",
        "    cooldown=2,\n",
        "    min_lr=0)\n",
        "\n",
        "eary_stopping = callbacks.EarlyStopping(\n",
        "    monitor='val_loss',\n",
        "    min_delta=0,\n",
        "    patience=7,\n",
        "    verbose=1,\n",
        "    mode='auto')\n",
        "\n",
        "callbacks = [reduce_learning, eary_stopping]"
      ]
    },
    {
      "cell_type": "code",
      "execution_count": 60,
      "metadata": {
        "id": "NV2IKq4FGBtB",
        "colab": {
          "base_uri": "https://localhost:8080/"
        },
        "outputId": "97ce72ef-5d5a-447b-e79b-874ca2410487"
      },
      "outputs": [
        {
          "output_type": "stream",
          "name": "stdout",
          "text": [
            "Epoch 1/100\n",
            "1500/1500 [==============================] - 5s 3ms/step - loss: 1.5092 - acc: 0.4455 - val_loss: 1.2368 - val_acc: 0.5345 - lr: 0.0010\n",
            "Epoch 2/100\n",
            "1500/1500 [==============================] - 5s 4ms/step - loss: 1.1126 - acc: 0.5906 - val_loss: 1.0388 - val_acc: 0.6276 - lr: 0.0010\n",
            "Epoch 3/100\n",
            "1500/1500 [==============================] - 5s 4ms/step - loss: 1.0032 - acc: 0.6332 - val_loss: 0.9786 - val_acc: 0.6292 - lr: 0.0010\n",
            "Epoch 4/100\n",
            "1500/1500 [==============================] - 4s 3ms/step - loss: 0.9305 - acc: 0.6620 - val_loss: 0.9269 - val_acc: 0.6467 - lr: 0.0010\n",
            "Epoch 5/100\n",
            "1500/1500 [==============================] - 6s 4ms/step - loss: 0.9024 - acc: 0.6714 - val_loss: 0.8550 - val_acc: 0.6982 - lr: 0.0010\n",
            "Epoch 6/100\n",
            "1500/1500 [==============================] - 5s 3ms/step - loss: 0.8845 - acc: 0.6784 - val_loss: 0.8578 - val_acc: 0.6900 - lr: 0.0010\n",
            "Epoch 7/100\n",
            "1500/1500 [==============================] - 4s 3ms/step - loss: 0.8675 - acc: 0.6819 - val_loss: 0.8313 - val_acc: 0.6962 - lr: 0.0010\n",
            "Epoch 8/100\n",
            "1500/1500 [==============================] - 6s 4ms/step - loss: 0.8524 - acc: 0.6886 - val_loss: 0.9087 - val_acc: 0.6618 - lr: 0.0010\n",
            "Epoch 9/100\n",
            "1481/1500 [============================>.] - ETA: 0s - loss: 0.8450 - acc: 0.6908\n",
            "Epoch 9: ReduceLROnPlateau reducing learning rate to 0.00020000000949949026.\n",
            "1500/1500 [==============================] - 4s 3ms/step - loss: 0.8439 - acc: 0.6914 - val_loss: 0.9216 - val_acc: 0.6619 - lr: 0.0010\n",
            "Epoch 10/100\n",
            "1500/1500 [==============================] - 4s 3ms/step - loss: 0.7715 - acc: 0.7218 - val_loss: 0.7878 - val_acc: 0.7112 - lr: 2.0000e-04\n",
            "Epoch 11/100\n",
            "1500/1500 [==============================] - 6s 4ms/step - loss: 0.7668 - acc: 0.7231 - val_loss: 0.7772 - val_acc: 0.7245 - lr: 2.0000e-04\n",
            "Epoch 12/100\n",
            "1500/1500 [==============================] - 4s 3ms/step - loss: 0.7634 - acc: 0.7262 - val_loss: 0.7688 - val_acc: 0.7258 - lr: 2.0000e-04\n",
            "Epoch 13/100\n",
            "1500/1500 [==============================] - 5s 3ms/step - loss: 0.7581 - acc: 0.7263 - val_loss: 0.7617 - val_acc: 0.7256 - lr: 2.0000e-04\n",
            "Epoch 14/100\n",
            "1500/1500 [==============================] - 5s 3ms/step - loss: 0.7544 - acc: 0.7281 - val_loss: 0.7663 - val_acc: 0.7249 - lr: 2.0000e-04\n",
            "Epoch 15/100\n",
            "1500/1500 [==============================] - 5s 3ms/step - loss: 0.7514 - acc: 0.7279 - val_loss: 0.7571 - val_acc: 0.7198 - lr: 2.0000e-04\n",
            "Epoch 16/100\n",
            "1500/1500 [==============================] - 5s 4ms/step - loss: 0.7487 - acc: 0.7292 - val_loss: 0.7635 - val_acc: 0.7193 - lr: 2.0000e-04\n",
            "Epoch 17/100\n",
            "1500/1500 [==============================] - 5s 3ms/step - loss: 0.7456 - acc: 0.7309 - val_loss: 0.7562 - val_acc: 0.7215 - lr: 2.0000e-04\n",
            "Epoch 18/100\n",
            "1500/1500 [==============================] - 4s 3ms/step - loss: 0.7424 - acc: 0.7330 - val_loss: 0.7452 - val_acc: 0.7297 - lr: 2.0000e-04\n",
            "Epoch 19/100\n",
            "1500/1500 [==============================] - 6s 4ms/step - loss: 0.7383 - acc: 0.7337 - val_loss: 0.7834 - val_acc: 0.7130 - lr: 2.0000e-04\n",
            "Epoch 20/100\n",
            "1500/1500 [==============================] - 4s 3ms/step - loss: 0.7374 - acc: 0.7336 - val_loss: 0.7370 - val_acc: 0.7347 - lr: 2.0000e-04\n",
            "Epoch 21/100\n",
            "1500/1500 [==============================] - 4s 3ms/step - loss: 0.7322 - acc: 0.7346 - val_loss: 0.7586 - val_acc: 0.7281 - lr: 2.0000e-04\n",
            "Epoch 22/100\n",
            "1482/1500 [============================>.] - ETA: 0s - loss: 0.7301 - acc: 0.7365\n",
            "Epoch 22: ReduceLROnPlateau reducing learning rate to 4.0000001899898055e-05.\n",
            "1500/1500 [==============================] - 6s 4ms/step - loss: 0.7302 - acc: 0.7365 - val_loss: 0.7390 - val_acc: 0.7325 - lr: 2.0000e-04\n",
            "Epoch 23/100\n",
            "1500/1500 [==============================] - 4s 3ms/step - loss: 0.7131 - acc: 0.7429 - val_loss: 0.7241 - val_acc: 0.7393 - lr: 4.0000e-05\n",
            "Epoch 24/100\n",
            "1500/1500 [==============================] - 4s 3ms/step - loss: 0.7118 - acc: 0.7448 - val_loss: 0.7221 - val_acc: 0.7372 - lr: 4.0000e-05\n",
            "Epoch 25/100\n",
            "1500/1500 [==============================] - 6s 4ms/step - loss: 0.7112 - acc: 0.7448 - val_loss: 0.7223 - val_acc: 0.7393 - lr: 4.0000e-05\n",
            "Epoch 26/100\n",
            "1500/1500 [==============================] - 4s 3ms/step - loss: 0.7104 - acc: 0.7445 - val_loss: 0.7198 - val_acc: 0.7404 - lr: 4.0000e-05\n",
            "Epoch 27/100\n",
            "1500/1500 [==============================] - 4s 3ms/step - loss: 0.7100 - acc: 0.7445 - val_loss: 0.7223 - val_acc: 0.7405 - lr: 4.0000e-05\n",
            "Epoch 28/100\n",
            "1500/1500 [==============================] - ETA: 0s - loss: 0.7092 - acc: 0.7460\n",
            "Epoch 28: ReduceLROnPlateau reducing learning rate to 8.000000525498762e-06.\n",
            "1500/1500 [==============================] - 6s 4ms/step - loss: 0.7092 - acc: 0.7460 - val_loss: 0.7201 - val_acc: 0.7403 - lr: 4.0000e-05\n",
            "Epoch 29/100\n",
            "1500/1500 [==============================] - 4s 3ms/step - loss: 0.7051 - acc: 0.7479 - val_loss: 0.7178 - val_acc: 0.7413 - lr: 8.0000e-06\n",
            "Epoch 30/100\n",
            "1500/1500 [==============================] - 5s 3ms/step - loss: 0.7050 - acc: 0.7484 - val_loss: 0.7179 - val_acc: 0.7397 - lr: 8.0000e-06\n",
            "Epoch 31/100\n",
            "1500/1500 [==============================] - 5s 3ms/step - loss: 0.7047 - acc: 0.7485 - val_loss: 0.7174 - val_acc: 0.7413 - lr: 8.0000e-06\n",
            "Epoch 32/100\n",
            "1500/1500 [==============================] - 4s 3ms/step - loss: 0.7045 - acc: 0.7475 - val_loss: 0.7179 - val_acc: 0.7404 - lr: 8.0000e-06\n",
            "Epoch 33/100\n",
            "1500/1500 [==============================] - 5s 4ms/step - loss: 0.7044 - acc: 0.7479 - val_loss: 0.7171 - val_acc: 0.7426 - lr: 8.0000e-06\n",
            "Epoch 34/100\n",
            "1500/1500 [==============================] - 5s 3ms/step - loss: 0.7043 - acc: 0.7478 - val_loss: 0.7169 - val_acc: 0.7418 - lr: 8.0000e-06\n",
            "Epoch 35/100\n",
            "1500/1500 [==============================] - 4s 3ms/step - loss: 0.7040 - acc: 0.7471 - val_loss: 0.7167 - val_acc: 0.7404 - lr: 8.0000e-06\n",
            "Epoch 36/100\n",
            "1500/1500 [==============================] - 6s 4ms/step - loss: 0.7039 - acc: 0.7482 - val_loss: 0.7167 - val_acc: 0.7425 - lr: 8.0000e-06\n",
            "Epoch 37/100\n",
            "1500/1500 [==============================] - 4s 3ms/step - loss: 0.7037 - acc: 0.7487 - val_loss: 0.7166 - val_acc: 0.7418 - lr: 8.0000e-06\n",
            "Epoch 38/100\n",
            "1500/1500 [==============================] - 5s 3ms/step - loss: 0.7037 - acc: 0.7480 - val_loss: 0.7160 - val_acc: 0.7433 - lr: 8.0000e-06\n",
            "Epoch 39/100\n",
            "1500/1500 [==============================] - 6s 4ms/step - loss: 0.7035 - acc: 0.7480 - val_loss: 0.7162 - val_acc: 0.7420 - lr: 8.0000e-06\n",
            "Epoch 40/100\n",
            "1500/1500 [==============================] - 4s 3ms/step - loss: 0.7035 - acc: 0.7481 - val_loss: 0.7159 - val_acc: 0.7440 - lr: 8.0000e-06\n",
            "Epoch 41/100\n",
            "1500/1500 [==============================] - 4s 3ms/step - loss: 0.7032 - acc: 0.7484 - val_loss: 0.7176 - val_acc: 0.7415 - lr: 8.0000e-06\n",
            "Epoch 42/100\n",
            "1500/1500 [==============================] - 6s 4ms/step - loss: 0.7032 - acc: 0.7479 - val_loss: 0.7154 - val_acc: 0.7420 - lr: 8.0000e-06\n",
            "Epoch 43/100\n",
            "1500/1500 [==============================] - 5s 3ms/step - loss: 0.7029 - acc: 0.7483 - val_loss: 0.7153 - val_acc: 0.7418 - lr: 8.0000e-06\n",
            "Epoch 44/100\n",
            "1500/1500 [==============================] - 5s 4ms/step - loss: 0.7029 - acc: 0.7485 - val_loss: 0.7153 - val_acc: 0.7423 - lr: 8.0000e-06\n",
            "Epoch 45/100\n",
            "1480/1500 [============================>.] - ETA: 0s - loss: 0.7026 - acc: 0.7483\n",
            "Epoch 45: ReduceLROnPlateau reducing learning rate to 1.6000001778593287e-06.\n",
            "1500/1500 [==============================] - 5s 3ms/step - loss: 0.7026 - acc: 0.7486 - val_loss: 0.7168 - val_acc: 0.7402 - lr: 8.0000e-06\n",
            "Epoch 46/100\n",
            "1500/1500 [==============================] - 4s 3ms/step - loss: 0.7019 - acc: 0.7486 - val_loss: 0.7155 - val_acc: 0.7408 - lr: 1.6000e-06\n",
            "Epoch 47/100\n",
            "1500/1500 [==============================] - 6s 4ms/step - loss: 0.7018 - acc: 0.7489 - val_loss: 0.7149 - val_acc: 0.7414 - lr: 1.6000e-06\n",
            "Epoch 48/100\n",
            "1500/1500 [==============================] - 4s 3ms/step - loss: 0.7017 - acc: 0.7490 - val_loss: 0.7149 - val_acc: 0.7419 - lr: 1.6000e-06\n",
            "Epoch 49/100\n",
            "1492/1500 [============================>.] - ETA: 0s - loss: 0.7012 - acc: 0.7493\n",
            "Epoch 49: ReduceLROnPlateau reducing learning rate to 3.200000264769187e-07.\n",
            "1500/1500 [==============================] - 4s 3ms/step - loss: 0.7017 - acc: 0.7490 - val_loss: 0.7149 - val_acc: 0.7422 - lr: 1.6000e-06\n",
            "Epoch 50/100\n",
            "1500/1500 [==============================] - 6s 4ms/step - loss: 0.7015 - acc: 0.7487 - val_loss: 0.7149 - val_acc: 0.7423 - lr: 3.2000e-07\n",
            "Epoch 51/100\n",
            "1500/1500 [==============================] - 4s 3ms/step - loss: 0.7015 - acc: 0.7490 - val_loss: 0.7149 - val_acc: 0.7418 - lr: 3.2000e-07\n",
            "Epoch 52/100\n",
            "1494/1500 [============================>.] - ETA: 0s - loss: 0.7018 - acc: 0.7488\n",
            "Epoch 52: ReduceLROnPlateau reducing learning rate to 6.400000529538374e-08.\n",
            "1500/1500 [==============================] - 4s 3ms/step - loss: 0.7014 - acc: 0.7489 - val_loss: 0.7150 - val_acc: 0.7418 - lr: 3.2000e-07\n",
            "Epoch 53/100\n",
            "1500/1500 [==============================] - 6s 4ms/step - loss: 0.7014 - acc: 0.7488 - val_loss: 0.7150 - val_acc: 0.7419 - lr: 6.4000e-08\n",
            "Epoch 54/100\n",
            "1500/1500 [==============================] - 4s 3ms/step - loss: 0.7014 - acc: 0.7488 - val_loss: 0.7149 - val_acc: 0.7416 - lr: 6.4000e-08\n",
            "Epoch 55/100\n",
            "1485/1500 [============================>.] - ETA: 0s - loss: 0.7021 - acc: 0.7488\n",
            "Epoch 55: ReduceLROnPlateau reducing learning rate to 1.2800001059076749e-08.\n",
            "1500/1500 [==============================] - 5s 3ms/step - loss: 0.7014 - acc: 0.7490 - val_loss: 0.7149 - val_acc: 0.7414 - lr: 6.4000e-08\n",
            "Epoch 56/100\n",
            "1500/1500 [==============================] - 6s 4ms/step - loss: 0.7014 - acc: 0.7489 - val_loss: 0.7149 - val_acc: 0.7414 - lr: 1.2800e-08\n",
            "Epoch 57/100\n",
            "1500/1500 [==============================] - 4s 3ms/step - loss: 0.7014 - acc: 0.7489 - val_loss: 0.7149 - val_acc: 0.7414 - lr: 1.2800e-08\n",
            "Epoch 57: early stopping\n"
          ]
        }
      ],
      "source": [
        "# Train the the model\n",
        "history = model.fit(\n",
        "    train_features_flat,\n",
        "    train_label,\n",
        "    epochs=NB_EPOCHS,\n",
        "    validation_data=(val_features_flat, valid_label),\n",
        "    callbacks=callbacks\n",
        ")"
      ]
    },
    {
      "cell_type": "code",
      "execution_count": 61,
      "metadata": {
        "id": "9ABOe_dsGBqZ",
        "colab": {
          "base_uri": "https://localhost:8080/",
          "height": 545
        },
        "outputId": "49daa186-8dd3-4418-968b-620f3f23645e"
      },
      "outputs": [
        {
          "output_type": "display_data",
          "data": {
            "text/plain": [
              "<Figure size 432x288 with 1 Axes>"
            ],
            "image/png": "[encoded data removed]"
          },
          "metadata": {
            "needs_background": "light"
          }
        },
        {
          "output_type": "display_data",
          "data": {
            "text/plain": [
              "<Figure size 432x288 with 1 Axes>"
            ],
            "image/png": "[encoded data removed]"
          },
          "metadata": {
            "needs_background": "light"
          }
        }
      ],
      "source": [
        "# plot the loss and accuracy\n",
        "\n",
        "acc = history.history['acc']\n",
        "val_acc = history.history['val_acc']\n",
        "loss = history.history['loss']\n",
        "val_loss = history.history['val_loss']\n",
        "epochs = range(1, len(acc) + 1)\n",
        "\n",
        "plt.title('Training and validation accuracy')\n",
        "plt.plot(epochs, acc, 'red', label='Training acc')\n",
        "plt.plot(epochs, val_acc, 'blue', label='Validation acc')\n",
        "plt.legend()\n",
        "\n",
        "plt.figure()\n",
        "plt.title('Training and validation loss')\n",
        "plt.plot(epochs, loss, 'red', label='Training loss')\n",
        "plt.plot(epochs, val_loss, 'blue', label='Validation loss')\n",
        "\n",
        "plt.legend()\n",
        "\n",
        "plt.show()\n"
      ]
    }
  ],
  "metadata": {
    "colab": {
      "provenance": [],
      "authorship_tag": "ABX9TyOJ05LGAGh7ETbBk0jh6zUo",
      "include_colab_link": true
    },
    "kernelspec": {
      "display_name": "Python 3",
      "name": "python3"
    },
    "language_info": {
      "name": "python"
    },
    "accelerator": "GPU",
    "gpuClass": "standard"
  },
  "nbformat": 4,
  "nbformat_minor": 0
}